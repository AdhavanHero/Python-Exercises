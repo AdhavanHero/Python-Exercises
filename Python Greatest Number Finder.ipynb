{
 "cells": [
  {
   "cell_type": "code",
   "execution_count": 9,
   "id": "0ae6b5a9",
   "metadata": {},
   "outputs": [
    {
     "name": "stdout",
     "output_type": "stream",
     "text": [
      "Enter any Number10\n",
      "Enter any Number5\n",
      "we are inside if\n",
      "we were outside the if\n"
     ]
    }
   ],
   "source": [
    "a = int(input(\"Enter any Number\"))\n",
    "b = int(input(\"Enter any Number\"))\n",
    "if a>b:\n",
    "    print(\"we are inside if\")\n",
    "print(\"we were outside the if\")   "
   ]
  },
  {
   "cell_type": "code",
   "execution_count": 11,
   "id": "c58f92e9",
   "metadata": {},
   "outputs": [
    {
     "name": "stdout",
     "output_type": "stream",
     "text": [
      "Enter any Number89\n",
      "Enter any Number100\n",
      "The Greatest Number finder\n",
      "100\n"
     ]
    }
   ],
   "source": [
    "a = int(input(\"Enter any Number\"))\n",
    "b = int(input(\"Enter any Number\"))\n",
    "print (\"The Greatest Number finder\")\n",
    "if a>b:\n",
    "    print(a)\n",
    "if b>a:\n",
    "    print(b)\n",
    "       "
   ]
  },
  {
   "cell_type": "code",
   "execution_count": null,
   "id": "0fe4eccb",
   "metadata": {},
   "outputs": [],
   "source": [
    "a = int(input(\"Enter any Number\"))\n",
    "b = int(input(\"Enter any Number\"))\n",
    "if a>b:\n",
    "    print(\"1st is greater than\")\n",
    "    \n",
    "else:\n",
    "     print (\"2nd is greater than \")\n",
    "    "
   ]
  }
 ],
 "metadata": {
  "kernelspec": {
   "display_name": "Python 3 (ipykernel)",
   "language": "python",
   "name": "python3"
  },
  "language_info": {
   "codemirror_mode": {
    "name": "ipython",
    "version": 3
   },
   "file_extension": ".py",
   "mimetype": "text/x-python",
   "name": "python",
   "nbconvert_exporter": "python",
   "pygments_lexer": "ipython3",
   "version": "3.9.7"
  }
 },
 "nbformat": 4,
 "nbformat_minor": 5
}
