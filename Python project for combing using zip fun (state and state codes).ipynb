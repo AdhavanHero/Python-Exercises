{
 "cells": [
  {
   "cell_type": "code",
   "execution_count": 24,
   "id": "069310eb",
   "metadata": {},
   "outputs": [
    {
     "name": "stdout",
     "output_type": "stream",
     "text": [
      "Enter the Total Number of State codes3\n",
      "Enter the Total Number of States3\n",
      "Enter the Statecodes:001\n",
      "Enter the Statecodes:002\n",
      "Enter the Statecodes:003\n",
      "Enter the States:usa\n",
      "Enter the States:India\n",
      "Enter the States:Myanmar\n",
      "[1, 2, 3]\n",
      "['usa', 'India', 'Myanmar']\n",
      "1 usa\n",
      "2 India\n",
      "3 Myanmar\n"
     ]
    }
   ],
   "source": [
    "#Code for Assigning state and statecodes\n",
    "a= int(input(\"Enter the Total Number of State codes\"))\n",
    "b= int(input(\"Enter the Total Number of States\"))\n",
    "if a == b: \n",
    "    c=[]\n",
    "    d=[]\n",
    "    hero1=0\n",
    "    hero=0\n",
    "\n",
    "    for x in range(0,a):\n",
    "            hero=int(input(\"Enter the Statecodes:\"))\n",
    "            c.append(hero)\n",
    "    for y in range(0,b):\n",
    "    \n",
    "         hero1=str(input(\"Enter the States:\"))\n",
    "         d.append(hero1)\n",
    "    \n",
    "    print(c)\n",
    "    print(d)\n",
    "    for i,j in zip(c,d):\n",
    "                print(f'{i} {j}')\n",
    "else:\n",
    "    print(\"The state code and states must be equal\")\n",
    "    if a<b:\n",
    "        print(\"There are not enough state codes\")\n",
    "    else:\n",
    "        print(\"There are not enough states\")"
   ]
  },
  {
   "cell_type": "code",
   "execution_count": 23,
   "id": "35d4254b",
   "metadata": {},
   "outputs": [
    {
     "name": "stdout",
     "output_type": "stream",
     "text": [
      "1 1\n",
      "usa 2\n"
     ]
    }
   ],
   "source": []
  },
  {
   "cell_type": "code",
   "execution_count": null,
   "id": "20dfcefd",
   "metadata": {},
   "outputs": [],
   "source": []
  },
  {
   "cell_type": "code",
   "execution_count": null,
   "id": "efa5cc16",
   "metadata": {},
   "outputs": [],
   "source": []
  }
 ],
 "metadata": {
  "kernelspec": {
   "display_name": "Python 3 (ipykernel)",
   "language": "python",
   "name": "python3"
  },
  "language_info": {
   "codemirror_mode": {
    "name": "ipython",
    "version": 3
   },
   "file_extension": ".py",
   "mimetype": "text/x-python",
   "name": "python",
   "nbconvert_exporter": "python",
   "pygments_lexer": "ipython3",
   "version": "3.9.7"
  }
 },
 "nbformat": 4,
 "nbformat_minor": 5
}
