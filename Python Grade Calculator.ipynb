{
 "cells": [
  {
   "cell_type": "code",
   "execution_count": 2,
   "id": "df529d3c",
   "metadata": {},
   "outputs": [
    {
     "name": "stdout",
     "output_type": "stream",
     "text": [
      "Enter the Marks70\n",
      "B- Grade\n"
     ]
    }
   ],
   "source": [
    "a = int(input(\"Enter the Marks\"))\n",
    "if a >= 85:\n",
    "    print(\"A Grade\")\n",
    "elif a < 85 and a >= 80:\n",
    "    print(\"A- Grade\")\n",
    "elif a < 80 and a >= 75:\n",
    "       print(\"B Grade\")\n",
    "elif a < 75 and a >= 70:\n",
    "    print(\"B- Grade\")\n",
    "elif a < 70 and a >= 50:\n",
    "     print(\"Below Average\")\n",
    "else: \n",
    "    print(\"Fail\")"
   ]
  },
  {
   "cell_type": "code",
   "execution_count": null,
   "id": "573f7495",
   "metadata": {},
   "outputs": [],
   "source": []
  },
  {
   "cell_type": "code",
   "execution_count": null,
   "id": "39227bca",
   "metadata": {},
   "outputs": [],
   "source": []
  }
 ],
 "metadata": {
  "kernelspec": {
   "display_name": "Python 3 (ipykernel)",
   "language": "python",
   "name": "python3"
  },
  "language_info": {
   "codemirror_mode": {
    "name": "ipython",
    "version": 3
   },
   "file_extension": ".py",
   "mimetype": "text/x-python",
   "name": "python",
   "nbconvert_exporter": "python",
   "pygments_lexer": "ipython3",
   "version": "3.9.7"
  }
 },
 "nbformat": 4,
 "nbformat_minor": 5
}
