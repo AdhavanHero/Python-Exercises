{
 "cells": [
  {
   "cell_type": "code",
   "execution_count": 1,
   "id": "d4e9aa0b",
   "metadata": {},
   "outputs": [],
   "source": [
    "def findsmall(L):\n",
    "    m=L[0]\n",
    "    idx=0\n",
    "    i=0\n",
    "    for x in l:\n",
    "        if x<m:\n",
    "            x=m\n",
    "            idx=i\n",
    "        else:\n",
    "            pass\n",
    "        i+=1\n",
    "        return m,idx\n",
    "    "
   ]
  },
  {
   "cell_type": "code",
   "execution_count": 2,
   "id": "1a8d933f",
   "metadata": {},
   "outputs": [],
   "source": [
    "def swapfun(L1,idx1,idx2):\n",
    "    tmp=L1[idx1]\n",
    "    L1[idx1]=L1[idx2]\n",
    "    L1[idx2]=tmp\n",
    "    return L1"
   ]
  },
  {
   "cell_type": "code",
   "execution_count": null,
   "id": "c980c7bc",
   "metadata": {},
   "outputs": [],
   "source": []
  }
 ],
 "metadata": {
  "kernelspec": {
   "display_name": "Python 3 (ipykernel)",
   "language": "python",
   "name": "python3"
  },
  "language_info": {
   "codemirror_mode": {
    "name": "ipython",
    "version": 3
   },
   "file_extension": ".py",
   "mimetype": "text/x-python",
   "name": "python",
   "nbconvert_exporter": "python",
   "pygments_lexer": "ipython3",
   "version": "3.9.7"
  }
 },
 "nbformat": 4,
 "nbformat_minor": 5
}
